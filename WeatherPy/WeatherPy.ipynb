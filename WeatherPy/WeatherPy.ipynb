{
 "cells": [
  {
   "cell_type": "markdown",
   "metadata": {},
   "source": [
    "# WeatherPy\n",
    "\n",
    "---\n",
    "\n",
    "## Starter Code to Generate Random Geographic Coordinates and a List of Cities"
   ]
  },
  {
   "cell_type": "code",
   "execution_count": 110,
   "metadata": {},
   "outputs": [],
   "source": [
    "# Import Dependencies\n",
    "import matplotlib.pyplot as plt\n",
    "import pandas as pd\n",
    "import numpy as np\n",
    "import requests\n",
    "import time\n",
    "from scipy.stats import linregress\n",
    "from pprint import pprint   # TODO: Not needed after dev --> Delete when done\n",
    "\n",
    "# `Citipy` determines cities based on latitude & longitude\n",
    "from citipy import citipy   # Install using `pip install citipy`\n",
    "\n",
    "# Import OpenWeatherMap API Key\n",
    "from api_keys import weather_api_key"
   ]
  },
  {
   "cell_type": "markdown",
   "metadata": {},
   "source": [
    "### Generate the Cities List by Using the `citipy` Library"
   ]
  },
  {
   "cell_type": "code",
   "execution_count": 133,
   "metadata": {},
   "outputs": [
    {
     "name": "stdout",
     "output_type": "stream",
     "text": [
      "Number of cities in the list: 73\n"
     ]
    }
   ],
   "source": [
    "# Empty list for holding the latitude and longitude combinations\n",
    "lat_lngs = []\n",
    "\n",
    "# Empty list for holding the cities names\n",
    "cities = []\n",
    "\n",
    "# Range of latitudes and longitudes\n",
    "lat_range = (-90, 90)\n",
    "lng_range = (-180, 180)\n",
    "\n",
    "# Create a set of random lat and lng combinations\n",
    "lats = np.random.uniform(lat_range[0], lat_range[1], size = 90) # TODO: Change back `size = 1500`\n",
    "lngs = np.random.uniform(lng_range[0], lng_range[1], size = 90) # TODO: Change back `size = 1500`\n",
    "lat_lngs = list(zip(lats, lngs))    # TODO: Correction to allow for later access of coordinates\n",
    "                                    # --> Ensure is necessary later\n",
    "\n",
    "# Identify nearest city for each lat, lng combination\n",
    "for lat_lng in lat_lngs:\n",
    "    city = citipy.nearest_city(lat_lng[0], lat_lng[1]).city_name\n",
    "\n",
    "    # If the city is unique, then add it to a our cities list\n",
    "    if city not in cities:\n",
    "        cities.append(city)\n",
    "\n",
    "# Print the city count to confirm sufficient count\n",
    "print(f\"Number of cities in the list: {len(cities)}\")"
   ]
  },
  {
   "cell_type": "markdown",
   "metadata": {},
   "source": [
    "---"
   ]
  },
  {
   "cell_type": "markdown",
   "metadata": {},
   "source": [
    "## Requirement 1: Create Plots to Showcase the Relationship Between Weather Variables and Latitude\n",
    "\n",
    "### Use the OpenWeatherMap API to retrieve weather data from the cities list generated in the started code"
   ]
  },
  {
   "cell_type": "code",
   "execution_count": null,
   "metadata": {},
   "outputs": [
    {
     "name": "stdout",
     "output_type": "stream",
     "text": [
      "Beginning Data Retrieval     \n",
      "-----------------------------\n",
      "Processing Record 1 of Set 1 | constitucion\n",
      "Processing Record 2 of Set 1 | kodiak\n",
      "Processing Record 3 of Set 1 | bargara\n",
      "City not found. Skipping...\n",
      "Processing Record 4 of Set 1 | port-aux-francais\n",
      "Processing Record 5 of Set 1 | bilibino\n",
      "Processing Record 6 of Set 1 | margaret river\n",
      "Processing Record 7 of Set 1 | kristiansund\n",
      "Processing Record 8 of Set 1 | nar'yan-mar\n",
      "Processing Record 9 of Set 1 | blackmans bay\n",
      "Processing Record 10 of Set 1 | wailua homesteads\n",
      "Processing Record 11 of Set 1 | rapid valley\n",
      "Processing Record 12 of Set 1 | kimbe\n",
      "Processing Record 13 of Set 1 | st. john's\n",
      "Processing Record 14 of Set 1 | fale old settlement\n",
      "Processing Record 15 of Set 1 | aykhal\n",
      "Processing Record 16 of Set 1 | grytviken\n",
      "Processing Record 17 of Set 1 | afaahiti\n",
      "Processing Record 18 of Set 1 | avarua\n",
      "Processing Record 19 of Set 1 | edinburgh of the seven seas\n",
      "Processing Record 20 of Set 1 | port lincoln\n",
      "Processing Record 21 of Set 1 | yellowknife\n",
      "Processing Record 22 of Set 1 | puerto leguizamo\n",
      "Processing Record 23 of Set 1 | iskateley\n",
      "Processing Record 24 of Set 1 | port elizabeth\n",
      "Processing Record 25 of Set 1 | olonkinbyen\n",
      "Processing Record 26 of Set 1 | minas de marcona\n",
      "Processing Record 27 of Set 1 | pingliang\n",
      "Processing Record 28 of Set 1 | georgetown\n",
      "Processing Record 29 of Set 1 | puerto san carlos\n",
      "City not found. Skipping...\n",
      "Processing Record 30 of Set 1 | longyearbyen\n",
      "Processing Record 31 of Set 1 | san fernando de apure\n",
      "Processing Record 32 of Set 1 | nishinoomote\n",
      "Processing Record 33 of Set 1 | gizo\n",
      "Processing Record 34 of Set 1 | sanguesa/zangoza\n",
      "City not found. Skipping...\n",
      "Processing Record 35 of Set 1 | quellon\n",
      "Processing Record 36 of Set 1 | ribeira grande\n",
      "Processing Record 37 of Set 1 | mandiana\n",
      "Processing Record 38 of Set 1 | mount isa\n",
      "Processing Record 39 of Set 1 | taiohae\n",
      "City not found. Skipping...\n",
      "Processing Record 40 of Set 1 | porto novo\n",
      "Processing Record 41 of Set 1 | ordos\n",
      "City not found. Skipping...\n",
      "Processing Record 42 of Set 1 | baranchinskiy\n",
      "Processing Record 43 of Set 1 | bredasdorp\n",
      "Processing Record 44 of Set 1 | utrik\n",
      "Processing Record 45 of Set 1 | labrador city\n",
      "Processing Record 46 of Set 1 | dudinka\n",
      "Processing Record 47 of Set 1 | haiku-pauwela\n",
      "Processing Record 48 of Set 1 | badger\n",
      "Processing Record 49 of Set 1 | hawaiian paradise park\n",
      "Processing Record 50 of Set 1 | waitangi\n",
      "Processing Record 1 of Set 2 | yuzhno-kurilsk\n",
      "Processing Record 2 of Set 2 | namibe\n",
      "Processing Record 3 of Set 2 | talara\n",
      "Processing Record 4 of Set 2 | albany\n",
      "Processing Record 5 of Set 2 | stanley\n",
      "Processing Record 6 of Set 2 | lodja\n",
      "Processing Record 7 of Set 2 | brookings\n",
      "Processing Record 8 of Set 2 | tofol\n",
      "Processing Record 9 of Set 2 | dawei\n",
      "Processing Record 10 of Set 2 | vengerovo\n",
      "Processing Record 11 of Set 2 | taroa\n",
      "Processing Record 12 of Set 2 | nemuro\n",
      "Processing Record 13 of Set 2 | cloverdale\n",
      "Processing Record 14 of Set 2 | qaqortoq\n",
      "Processing Record 15 of Set 2 | itaituba\n",
      "Processing Record 16 of Set 2 | tromso\n",
      "Processing Record 17 of Set 2 | hamilton\n",
      "Processing Record 18 of Set 2 | northam\n",
      "Processing Record 19 of Set 2 | al qadarif\n",
      "Processing Record 20 of Set 2 | queenstown\n",
      "Processing Record 21 of Set 2 | tura\n",
      "Processing Record 22 of Set 2 | linkoping\n",
      "Processing Record 23 of Set 2 | odakra\n",
      "-----------------------------\n",
      "Data Retrieval Complete      \n",
      "-----------------------------\n"
     ]
    }
   ],
   "source": [
    "# Set the API base URL\n",
    "# https://api.openweathermap.org/data/2.5/weather?q=London,uk&APPID=4312e8b42443141d8193bff21246737e\n",
    "# https://api.openweathermap.org/data/3.0/onecall?lat={lat}&lon={lon}&exclude={part}&appid={API key}\n",
    "base_url = f'https://api.openweathermap.org/data/2.5/weather?appid={weather_api_key}'\n",
    "\n",
    "# Define an empty list to fetch the weather data for each city\n",
    "city_data = []\n",
    "\n",
    "# Print to logger\n",
    "print(\"Beginning Data Retrieval     \")\n",
    "print(\"-----------------------------\")\n",
    "\n",
    "# Create counters\n",
    "record_count = 1\n",
    "set_count = 1\n",
    "\n",
    "# Loop through all the cities in our list to fetch weather data\n",
    "for i, city in enumerate(cities):\n",
    "\n",
    "    # Group cities in sets of 50 for logging purposes\n",
    "    if (i % 50 == 0 and i >= 50):\n",
    "        set_count += 1\n",
    "        record_count = 1    # TODO: starter_code was `record_count = 0` --> Ensure is correct\n",
    "\n",
    "    # Create endpoint URL with each city\n",
    "    city_url = f'{base_url}&q={city}'\n",
    "\n",
    "    # Log the url, record, and set numbers\n",
    "    # TODO: Clean old print-->\"Processing Record %s of Set %s | %s\" % (record_count, set_count, city)\n",
    "    print(f'Processing Record {record_count} of Set {set_count} | {city}')\n",
    "\n",
    "    # Add 1 to the record count\n",
    "    record_count += 1\n",
    "\n",
    "    # Run an API request for each of the cities\n",
    "    try:\n",
    "        response = requests.get(city_url).json()\n",
    "\n",
    "        # Parse the JSON and retrieve data\n",
    "        city_weather = response['weather']\n",
    "\n",
    "        # Parse out latitude, longitude, max temp, humidity, cloudiness, wind speed, country, and date\n",
    "        city_lat = response['coord']['lat']\n",
    "        city_lng = response['coord']['lon']\n",
    "        city_max_temp = response['main']['temp_max']\n",
    "        city_humidity = response['main']['humidity']\n",
    "        city_clouds = response['clouds']['all']\n",
    "        city_wind = response['wind']['speed']\n",
    "        city_country = response['sys']['country']\n",
    "        city_date = response['dt']\n",
    "\n",
    "        # Append the City information into city_data list\n",
    "        city_data.append({\"City\": city,\n",
    "                        \"Lat\": city_lat,\n",
    "                        \"Lng\": city_lng,\n",
    "                        \"Max Temp\": city_max_temp,\n",
    "                        \"Humidity\": city_humidity,\n",
    "                        \"Cloudiness\": city_clouds,\n",
    "                        \"Wind Speed\": city_wind,\n",
    "                        \"Country\": city_country,\n",
    "                        \"Date\": city_date})\n",
    "\n",
    "    # If an error is experienced, skip the city\n",
    "    except:\n",
    "        print(\"City not found. Skipping...\")\n",
    "        pass\n",
    "\n",
    "    # pause to avoid rate limiting\n",
    "    time.sleep(1)\n",
    "\n",
    "# Indicate that Data Loading is complete\n",
    "print(\"-----------------------------\")\n",
    "print(\"Data Retrieval Complete      \")\n",
    "print(\"-----------------------------\")"
   ]
  },
  {
   "cell_type": "code",
   "execution_count": 138,
   "metadata": {},
   "outputs": [
    {
     "data": {
      "text/plain": [
       "City          68\n",
       "Lat           68\n",
       "Lng           68\n",
       "Max Temp      68\n",
       "Humidity      68\n",
       "Cloudiness    68\n",
       "Wind Speed    68\n",
       "Country       68\n",
       "Date          68\n",
       "dtype: int64"
      ]
     },
     "execution_count": 138,
     "metadata": {},
     "output_type": "execute_result"
    }
   ],
   "source": [
    "# Convert the cities weather data into a Pandas DataFrame\n",
    "cityData_df = pd.DataFrame(city_data)\n",
    "\n",
    "# Show Record Count\n",
    "cityData_df.count()"
   ]
  },
  {
   "cell_type": "code",
   "execution_count": 141,
   "metadata": {},
   "outputs": [
    {
     "data": {
      "text/html": [
       "<div>\n",
       "<style scoped>\n",
       "    .dataframe tbody tr th:only-of-type {\n",
       "        vertical-align: middle;\n",
       "    }\n",
       "\n",
       "    .dataframe tbody tr th {\n",
       "        vertical-align: top;\n",
       "    }\n",
       "\n",
       "    .dataframe thead th {\n",
       "        text-align: right;\n",
       "    }\n",
       "</style>\n",
       "<table border=\"1\" class=\"dataframe\">\n",
       "  <thead>\n",
       "    <tr style=\"text-align: right;\">\n",
       "      <th></th>\n",
       "      <th>City</th>\n",
       "      <th>Lat</th>\n",
       "      <th>Lng</th>\n",
       "      <th>Max Temp</th>\n",
       "      <th>Humidity</th>\n",
       "      <th>Cloudiness</th>\n",
       "      <th>Wind Speed</th>\n",
       "      <th>Country</th>\n",
       "      <th>Date</th>\n",
       "    </tr>\n",
       "  </thead>\n",
       "  <tbody>\n",
       "    <tr>\n",
       "      <th>0</th>\n",
       "      <td>constitucion</td>\n",
       "      <td>-35.3333</td>\n",
       "      <td>-72.4167</td>\n",
       "      <td>294.41</td>\n",
       "      <td>63</td>\n",
       "      <td>66</td>\n",
       "      <td>5.16</td>\n",
       "      <td>CL</td>\n",
       "      <td>1735493656</td>\n",
       "    </tr>\n",
       "    <tr>\n",
       "      <th>1</th>\n",
       "      <td>kodiak</td>\n",
       "      <td>57.7900</td>\n",
       "      <td>-152.4072</td>\n",
       "      <td>266.88</td>\n",
       "      <td>93</td>\n",
       "      <td>0</td>\n",
       "      <td>2.06</td>\n",
       "      <td>US</td>\n",
       "      <td>1735493657</td>\n",
       "    </tr>\n",
       "    <tr>\n",
       "      <th>2</th>\n",
       "      <td>port-aux-francais</td>\n",
       "      <td>-49.3500</td>\n",
       "      <td>70.2167</td>\n",
       "      <td>277.56</td>\n",
       "      <td>65</td>\n",
       "      <td>40</td>\n",
       "      <td>11.32</td>\n",
       "      <td>TF</td>\n",
       "      <td>1735493658</td>\n",
       "    </tr>\n",
       "    <tr>\n",
       "      <th>3</th>\n",
       "      <td>bilibino</td>\n",
       "      <td>68.0546</td>\n",
       "      <td>166.4372</td>\n",
       "      <td>236.91</td>\n",
       "      <td>82</td>\n",
       "      <td>29</td>\n",
       "      <td>2.27</td>\n",
       "      <td>RU</td>\n",
       "      <td>1735493117</td>\n",
       "    </tr>\n",
       "    <tr>\n",
       "      <th>4</th>\n",
       "      <td>margaret river</td>\n",
       "      <td>-33.9500</td>\n",
       "      <td>115.0667</td>\n",
       "      <td>286.60</td>\n",
       "      <td>95</td>\n",
       "      <td>20</td>\n",
       "      <td>3.00</td>\n",
       "      <td>AU</td>\n",
       "      <td>1735493659</td>\n",
       "    </tr>\n",
       "  </tbody>\n",
       "</table>\n",
       "</div>"
      ],
      "text/plain": [
       "                City      Lat       Lng  Max Temp  Humidity  Cloudiness  \\\n",
       "0       constitucion -35.3333  -72.4167    294.41        63          66   \n",
       "1             kodiak  57.7900 -152.4072    266.88        93           0   \n",
       "2  port-aux-francais -49.3500   70.2167    277.56        65          40   \n",
       "3           bilibino  68.0546  166.4372    236.91        82          29   \n",
       "4     margaret river -33.9500  115.0667    286.60        95          20   \n",
       "\n",
       "   Wind Speed Country        Date  \n",
       "0        5.16      CL  1735493656  \n",
       "1        2.06      US  1735493657  \n",
       "2       11.32      TF  1735493658  \n",
       "3        2.27      RU  1735493117  \n",
       "4        3.00      AU  1735493659  "
      ]
     },
     "execution_count": 141,
     "metadata": {},
     "output_type": "execute_result"
    }
   ],
   "source": [
    "# Display sample data\n",
    "cityData_df.head()"
   ]
  },
  {
   "cell_type": "code",
   "execution_count": null,
   "metadata": {},
   "outputs": [],
   "source": [
    "# Export the City_Data into a csv\n",
    "# NOTE: `df.to_csv() and other .to_file() methods takes OS independent regex`\n",
    "cityData_df.to_csv('output_data/cities.csv', index_label = 'City_ID')"
   ]
  },
  {
   "cell_type": "code",
   "execution_count": null,
   "metadata": {},
   "outputs": [],
   "source": [
    "# Read saved data\n",
    "cityData_df = pd.read_csv(\"output_data/cities.csv\", index_col=\"City_ID\")\n",
    "\n",
    "# Display sample data\n",
    "cityData_df.head()"
   ]
  },
  {
   "cell_type": "markdown",
   "metadata": {},
   "source": [
    "### Create the Scatter Plots Requested\n",
    "\n",
    "#### Latitude Vs. Temperature"
   ]
  },
  {
   "cell_type": "code",
   "execution_count": null,
   "metadata": {},
   "outputs": [],
   "source": [
    "# Build scatter plot for latitude vs. temperature\n",
    "# YOUR CODE HERE\n",
    "\n",
    "# Incorporate the other graph properties\n",
    "# YOUR CODE HERE\n",
    "\n",
    "# Save the figure\n",
    "plt.savefig(\"output_data/Fig1.png\")\n",
    "\n",
    "# Show plot\n",
    "plt.show()"
   ]
  },
  {
   "cell_type": "markdown",
   "metadata": {},
   "source": [
    "#### Latitude Vs. Humidity"
   ]
  },
  {
   "cell_type": "code",
   "execution_count": null,
   "metadata": {},
   "outputs": [],
   "source": [
    "# Build the scatter plots for latitude vs. humidity\n",
    "# YOUR CODE HERE\n",
    "\n",
    "# Incorporate the other graph properties\n",
    "# YOUR CODE HERE\n",
    "\n",
    "# Save the figure\n",
    "plt.savefig(\"output_data/Fig2.png\")\n",
    "\n",
    "# Show plot\n",
    "plt.show()"
   ]
  },
  {
   "cell_type": "markdown",
   "metadata": {},
   "source": [
    "#### Latitude Vs. Cloudiness"
   ]
  },
  {
   "cell_type": "code",
   "execution_count": null,
   "metadata": {},
   "outputs": [],
   "source": [
    "# Build the scatter plots for latitude vs. cloudiness\n",
    "# YOUR CODE HERE\n",
    "\n",
    "# Incorporate the other graph properties\n",
    "# YOUR CODE HERE\n",
    "\n",
    "# Save the figure\n",
    "plt.savefig(\"output_data/Fig3.png\")\n",
    "\n",
    "# Show plot\n",
    "plt.show()"
   ]
  },
  {
   "cell_type": "markdown",
   "metadata": {},
   "source": [
    "#### Latitude vs. Wind Speed Plot"
   ]
  },
  {
   "cell_type": "code",
   "execution_count": null,
   "metadata": {},
   "outputs": [],
   "source": [
    "# Build the scatter plots for latitude vs. wind speed\n",
    "# YOUR CODE HERE\n",
    "\n",
    "# Incorporate the other graph properties\n",
    "# YOUR CODE HERE\n",
    "\n",
    "# Save the figure\n",
    "plt.savefig(\"output_data/Fig4.png\")\n",
    "\n",
    "# Show plot\n",
    "plt.show()"
   ]
  },
  {
   "cell_type": "markdown",
   "metadata": {},
   "source": [
    "---\n",
    "\n",
    "## Requirement 2: Compute Linear Regression for Each Relationship\n"
   ]
  },
  {
   "cell_type": "code",
   "execution_count": null,
   "metadata": {},
   "outputs": [],
   "source": [
    "# Define a function to create Linear Regression plots\n",
    "# YOUR CODE HERE"
   ]
  },
  {
   "cell_type": "code",
   "execution_count": null,
   "metadata": {},
   "outputs": [],
   "source": [
    "# Create a DataFrame with the Northern Hemisphere data (Latitude >= 0)\n",
    "# YOUR CODE HERE\n",
    "\n",
    "# Display sample data\n",
    "northern_hemi_df.head()"
   ]
  },
  {
   "cell_type": "code",
   "execution_count": null,
   "metadata": {},
   "outputs": [],
   "source": [
    "# Create a DataFrame with the Southern Hemisphere data (Latitude < 0)\n",
    "# YOUR CODE HERE\n",
    "\n",
    "# Display sample data\n",
    "southern_hemi_df.head()"
   ]
  },
  {
   "cell_type": "markdown",
   "metadata": {},
   "source": [
    "###  Temperature vs. Latitude Linear Regression Plot"
   ]
  },
  {
   "cell_type": "code",
   "execution_count": null,
   "metadata": {},
   "outputs": [],
   "source": [
    "# Linear regression on Northern Hemisphere\n",
    "# YOUR CODE HERE"
   ]
  },
  {
   "cell_type": "code",
   "execution_count": null,
   "metadata": {},
   "outputs": [],
   "source": [
    "# Linear regression on Southern Hemisphere\n",
    "# YOUR CODE HERE"
   ]
  },
  {
   "cell_type": "markdown",
   "metadata": {},
   "source": [
    "**Discussion about the linear relationship:** YOUR RESPONSE HERE"
   ]
  },
  {
   "cell_type": "markdown",
   "metadata": {},
   "source": [
    "### Humidity vs. Latitude Linear Regression Plot"
   ]
  },
  {
   "cell_type": "code",
   "execution_count": null,
   "metadata": {},
   "outputs": [],
   "source": [
    "# Northern Hemisphere\n",
    "# YOUR CODE HERE"
   ]
  },
  {
   "cell_type": "code",
   "execution_count": null,
   "metadata": {},
   "outputs": [],
   "source": [
    "# Southern Hemisphere\n",
    "# YOUR CODE HERE"
   ]
  },
  {
   "cell_type": "markdown",
   "metadata": {},
   "source": [
    "**Discussion about the linear relationship:** YOUR RESPONSE HERE"
   ]
  },
  {
   "cell_type": "markdown",
   "metadata": {},
   "source": [
    "### Cloudiness vs. Latitude Linear Regression Plot"
   ]
  },
  {
   "cell_type": "code",
   "execution_count": null,
   "metadata": {},
   "outputs": [],
   "source": [
    "# Northern Hemisphere\n",
    "# YOUR CODE HERE"
   ]
  },
  {
   "cell_type": "code",
   "execution_count": null,
   "metadata": {},
   "outputs": [],
   "source": [
    "# Southern Hemisphere\n",
    "# YOUR CODE HERE"
   ]
  },
  {
   "cell_type": "markdown",
   "metadata": {},
   "source": [
    "**Discussion about the linear relationship:** YOUR RESPONSE HERE"
   ]
  },
  {
   "cell_type": "markdown",
   "metadata": {},
   "source": [
    "### Wind Speed vs. Latitude Linear Regression Plot"
   ]
  },
  {
   "cell_type": "code",
   "execution_count": null,
   "metadata": {},
   "outputs": [],
   "source": [
    "# Northern Hemisphere\n",
    "# YOUR CODE HERE"
   ]
  },
  {
   "cell_type": "code",
   "execution_count": null,
   "metadata": {},
   "outputs": [],
   "source": [
    "# Southern Hemisphere\n",
    "# YOUR CODE HERE"
   ]
  },
  {
   "cell_type": "markdown",
   "metadata": {},
   "source": [
    "**Discussion about the linear relationship:** YOUR RESPONSE HERE"
   ]
  }
 ],
 "metadata": {
  "kernelspec": {
   "display_name": "base",
   "language": "python",
   "name": "python3"
  },
  "language_info": {
   "codemirror_mode": {
    "name": "ipython",
    "version": 3
   },
   "file_extension": ".py",
   "mimetype": "text/x-python",
   "name": "python",
   "nbconvert_exporter": "python",
   "pygments_lexer": "ipython3",
   "version": "3.12.7"
  }
 },
 "nbformat": 4,
 "nbformat_minor": 2
}
