{
 "cells": [
  {
   "cell_type": "markdown",
   "metadata": {},
   "source": [
    "# WeatherPy\n",
    "\n",
    "---\n",
    "\n",
    "## Starter Code to Generate Random Geographic Coordinates and a List of Cities"
   ]
  },
  {
   "cell_type": "code",
   "execution_count": 110,
   "metadata": {},
   "outputs": [],
   "source": [
    "# Import Dependencies\n",
    "import matplotlib.pyplot as plt\n",
    "import pandas as pd\n",
    "import numpy as np\n",
    "import requests\n",
    "import time\n",
    "from scipy.stats import linregress\n",
    "from pprint import pprint   # Potentially not needed later!!!\n",
    "\n",
    "# `Citipy` determines cities based on latitude & longitude\n",
    "from citipy import citipy   # Install using `pip install citipy`\n",
    "\n",
    "# Import OpenWeatherMap API Key\n",
    "from api_keys import weather_api_key"
   ]
  },
  {
   "cell_type": "markdown",
   "metadata": {},
   "source": [
    "### Generate the Cities List by Using the `citipy` Library"
   ]
  },
  {
   "cell_type": "code",
   "execution_count": 119,
   "metadata": {},
   "outputs": [
    {
     "name": "stdout",
     "output_type": "stream",
     "text": [
      "Number of cities in the list: 78\n"
     ]
    }
   ],
   "source": [
    "# Empty list for holding the latitude and longitude combinations\n",
    "lat_lngs = []\n",
    "\n",
    "# Empty list for holding the cities names\n",
    "cities = []\n",
    "\n",
    "# Range of latitudes and longitudes\n",
    "lat_range = (-90, 90)\n",
    "lng_range = (-180, 180)\n",
    "\n",
    "# Create a set of random lat and lng combinations\n",
    "lats = np.random.uniform(lat_range[0], lat_range[1], size = 100) # Please change back `size = 1500`!!!\n",
    "lngs = np.random.uniform(lng_range[0], lng_range[1], size = 100) # Please change back `size = 1500`!!!\n",
    "lat_lngs = list(zip(lats, lngs))    # Correction to allow for later access of coordinates\n",
    "                                    # Potentially not needed!!! if actually correct coordinates\n",
    "                                    # can be found\n",
    "\n",
    "# Identify nearest city for each lat, lng combination\n",
    "for lat_lng in lat_lngs:\n",
    "    city = citipy.nearest_city(lat_lng[0], lat_lng[1]).city_name\n",
    "\n",
    "    # If the city is unique, then add it to a our cities list\n",
    "    if city not in cities:\n",
    "        cities.append(city)\n",
    "\n",
    "# Print the city count to confirm sufficient count\n",
    "print(f\"Number of cities in the list: {len(cities)}\")"
   ]
  },
  {
   "cell_type": "markdown",
   "metadata": {},
   "source": [
    "---"
   ]
  },
  {
   "cell_type": "markdown",
   "metadata": {},
   "source": [
    "## Requirement 1: Create Plots to Showcase the Relationship Between Weather Variables and Latitude\n",
    "\n",
    "### Use the OpenWeatherMap API to retrieve weather data from the cities list generated in the started code"
   ]
  },
  {
   "cell_type": "code",
   "execution_count": null,
   "metadata": {},
   "outputs": [
    {
     "name": "stdout",
     "output_type": "stream",
     "text": [
      "Beginning Data Retrieval     \n",
      "-----------------------------\n",
      "Processing Record 1 of Set 1 | yuzhno-kurilsk\n",
      "Processing Record 2 of Set 1 | zakamensk\n",
      "Processing Record 3 of Set 1 | vanju-mare\n",
      "Processing Record 4 of Set 1 | bethel\n",
      "Processing Record 5 of Set 1 | papatowai\n",
      "Processing Record 6 of Set 1 | mouila\n",
      "Processing Record 7 of Set 1 | soligalich\n",
      "Processing Record 8 of Set 1 | iqaluit\n",
      "Processing Record 9 of Set 1 | puerto ayora\n",
      "Processing Record 10 of Set 1 | blackmans bay\n",
      "Processing Record 11 of Set 1 | wailua homesteads\n",
      "Processing Record 12 of Set 1 | codrington\n",
      "Processing Record 13 of Set 1 | bredasdorp\n",
      "Processing Record 14 of Set 1 | longyearbyen\n",
      "Processing Record 15 of Set 1 | afaahiti\n",
      "Processing Record 16 of Set 1 | constantia\n",
      "Processing Record 17 of Set 1 | ad dilam\n",
      "Processing Record 18 of Set 1 | navarre\n",
      "Processing Record 19 of Set 1 | flying fish cove\n",
      "Processing Record 20 of Set 1 | lae\n",
      "Processing Record 21 of Set 1 | nova olinda do norte\n",
      "Processing Record 22 of Set 1 | puerto natales\n",
      "Processing Record 23 of Set 1 | bosaso\n",
      "Processing Record 24 of Set 1 | coron\n",
      "Processing Record 25 of Set 1 | atoyac de alvarez\n",
      "Processing Record 26 of Set 1 | luderitz\n",
      "Processing Record 27 of Set 1 | urucara\n",
      "Processing Record 28 of Set 1 | west island\n",
      "Processing Record 29 of Set 1 | padang\n",
      "Processing Record 30 of Set 1 | edinburgh of the seven seas\n",
      "Processing Record 31 of Set 1 | tual\n",
      "Processing Record 32 of Set 1 | kapa'a\n",
      "Processing Record 33 of Set 1 | cabo san lucas\n",
      "Processing Record 34 of Set 1 | fort bragg\n",
      "Processing Record 35 of Set 1 | waitangi\n",
      "Processing Record 36 of Set 1 | puerto deseado\n",
      "Processing Record 37 of Set 1 | murray bridge\n",
      "Processing Record 38 of Set 1 | nizhneudinsk\n",
      "Processing Record 39 of Set 1 | vila franca do campo\n",
      "Processing Record 40 of Set 1 | tazovsky\n",
      "Processing Record 41 of Set 1 | pyay\n",
      "Processing Record 42 of Set 1 | hermanus\n",
      "Processing Record 43 of Set 1 | malpica\n",
      "Processing Record 44 of Set 1 | nuku'alofa\n",
      "Processing Record 45 of Set 1 | anadyr\n",
      "Processing Record 46 of Set 1 | simanggang\n",
      "Processing Record 47 of Set 1 | sandnessjoen\n",
      "Processing Record 48 of Set 1 | melekeok village\n",
      "Processing Record 49 of Set 1 | kiunga\n",
      "Processing Record 50 of Set 1 | kichmengskiy gorodok\n",
      "Processing Record 1 of Set 2 | pocklington\n",
      "Processing Record 2 of Set 2 | port alfred\n",
      "Processing Record 3 of Set 2 | petropavlovsk-kamchatsky\n",
      "Processing Record 4 of Set 2 | kruisfontein\n",
      "Processing Record 5 of Set 2 | la mana\n",
      "Processing Record 6 of Set 2 | port-aux-francais\n",
      "Processing Record 7 of Set 2 | misratah\n",
      "Processing Record 8 of Set 2 | mahibadhoo\n",
      "Processing Record 9 of Set 2 | albany\n",
      "Processing Record 10 of Set 2 | san luis de la loma\n",
      "Processing Record 11 of Set 2 | invercargill\n",
      "Processing Record 12 of Set 2 | kenai\n",
      "Processing Record 13 of Set 2 | olonkinbyen\n",
      "Processing Record 14 of Set 2 | iskateley\n",
      "Processing Record 15 of Set 2 | panaba\n",
      "Processing Record 16 of Set 2 | cargados carajos\n",
      "City not found. Skipping...\n",
      "Processing Record 17 of Set 2 | collingwood\n",
      "Processing Record 18 of Set 2 | grytviken\n",
      "Processing Record 19 of Set 2 | isafjordur\n",
      "Processing Record 20 of Set 2 | st. john's\n",
      "Processing Record 21 of Set 2 | yellowknife\n",
      "Processing Record 22 of Set 2 | mirto\n",
      "Processing Record 23 of Set 2 | al ghayzah\n",
      "Processing Record 24 of Set 2 | waddan\n",
      "Processing Record 25 of Set 2 | margaret river\n",
      "Processing Record 26 of Set 2 | 'ohonua\n",
      "City not found. Skipping...\n",
      "Processing Record 27 of Set 2 | mahendragarh\n",
      "Processing Record 28 of Set 2 | sanctuary point\n",
      "-----------------------------\n",
      "Data Retrieval Complete      \n",
      "-----------------------------\n"
     ]
    }
   ],
   "source": [
    "# Set the API base URL\n",
    "# https://api.openweathermap.org/data/2.5/weather?q=London,uk&APPID=4312e8b42443141d8193bff21246737e\n",
    "# https://api.openweathermap.org/data/3.0/onecall?lat={lat}&lon={lon}&exclude={part}&appid={API key}\n",
    "base_url = f'https://api.openweathermap.org/data/2.5/weather?appid={weather_api_key}'\n",
    "\n",
    "# Define an empty list to fetch the weather data for each city\n",
    "city_data = []\n",
    "\n",
    "# Print to logger\n",
    "print(\"Beginning Data Retrieval     \")\n",
    "print(\"-----------------------------\")\n",
    "\n",
    "# Create counters\n",
    "record_count = 1\n",
    "set_count = 1\n",
    "\n",
    "# Loop through all the cities in our list to fetch weather data\n",
    "for i, city in enumerate(cities):\n",
    "\n",
    "    # Group cities in sets of 50 for logging purposes\n",
    "    if (i % 50 == 0 and i >= 50):\n",
    "        set_count += 1\n",
    "        record_count = 1    # Correction from starter_code: `record_count = 0`\n",
    "\n",
    "    # Create endpoint URL with each city\n",
    "    city_url = f'{base_url}&q={city}'\n",
    "\n",
    "    # Log the url, record, and set numbers\n",
    "    # print(\"Processing Record %s of Set %s | %s\" % (record_count, set_count, city))\n",
    "    print(f'Processing Record {record_count} of Set {set_count} | {city}')\n",
    "\n",
    "    # Add 1 to the record count\n",
    "    record_count += 1\n",
    "\n",
    "    # Run an API request for each of the cities\n",
    "    try:\n",
    "        response = requests.get(city_url).json()\n",
    "\n",
    "        # Parse the JSON and retrieve data\n",
    "        city_weather = response['weather']\n",
    "\n",
    "        # Parse out latitude, longitude, max temp, humidity, cloudiness, wind speed, country, and date\n",
    "        city_lat = response['coord']['lat']\n",
    "        city_lng = response['coord']['lon']\n",
    "        city_max_temp = response['main']['temp_max']\n",
    "        city_humidity = response['main']['humidity']\n",
    "        city_clouds = response['clouds']\n",
    "        city_wind = response['wind']\n",
    "        city_country = response['sys']['country']\n",
    "        city_date = response['dt']\n",
    "\n",
    "        # Append the City information into city_data list\n",
    "        city_data.append({\"City\": city,\n",
    "                        \"Lat\": city_lat,\n",
    "                        \"Lng\": city_lng,\n",
    "                        \"Max Temp\": city_max_temp,\n",
    "                        \"Humidity\": city_humidity,\n",
    "                        \"Cloudiness\": city_clouds,\n",
    "                        \"Wind Speed\": city_wind,\n",
    "                        \"Country\": city_country,\n",
    "                        \"Date\": city_date})\n",
    "\n",
    "    # If an error is experienced, skip the city\n",
    "    except:\n",
    "        print(\"City not found. Skipping...\")\n",
    "        pass\n",
    "\n",
    "    # pause to avoid rate limiting\n",
    "    time.sleep(1)\n",
    "\n",
    "# Indicate that Data Loading is complete\n",
    "print(\"-----------------------------\")\n",
    "print(\"Data Retrieval Complete      \")\n",
    "print(\"-----------------------------\")"
   ]
  },
  {
   "cell_type": "code",
   "execution_count": 121,
   "metadata": {},
   "outputs": [
    {
     "data": {
      "text/plain": [
       "City          76\n",
       "Lat           76\n",
       "Lng           76\n",
       "Max Temp      76\n",
       "Humidity      76\n",
       "Cloudiness    76\n",
       "Wind Speed    76\n",
       "Country       76\n",
       "Date          76\n",
       "dtype: int64"
      ]
     },
     "execution_count": 121,
     "metadata": {},
     "output_type": "execute_result"
    }
   ],
   "source": [
    "# Convert the cities weather data into a Pandas DataFrame\n",
    "city_data_df = pd.DataFrame(city_data)\n",
    "\n",
    "# Show Record Count\n",
    "city_data_df.count()"
   ]
  },
  {
   "cell_type": "code",
   "execution_count": 122,
   "metadata": {},
   "outputs": [
    {
     "data": {
      "text/html": [
       "<div>\n",
       "<style scoped>\n",
       "    .dataframe tbody tr th:only-of-type {\n",
       "        vertical-align: middle;\n",
       "    }\n",
       "\n",
       "    .dataframe tbody tr th {\n",
       "        vertical-align: top;\n",
       "    }\n",
       "\n",
       "    .dataframe thead th {\n",
       "        text-align: right;\n",
       "    }\n",
       "</style>\n",
       "<table border=\"1\" class=\"dataframe\">\n",
       "  <thead>\n",
       "    <tr style=\"text-align: right;\">\n",
       "      <th></th>\n",
       "      <th>City</th>\n",
       "      <th>Lat</th>\n",
       "      <th>Lng</th>\n",
       "      <th>Max Temp</th>\n",
       "      <th>Humidity</th>\n",
       "      <th>Cloudiness</th>\n",
       "      <th>Wind Speed</th>\n",
       "      <th>Country</th>\n",
       "      <th>Date</th>\n",
       "    </tr>\n",
       "  </thead>\n",
       "  <tbody>\n",
       "    <tr>\n",
       "      <th>0</th>\n",
       "      <td>yuzhno-kurilsk</td>\n",
       "      <td>44.0306</td>\n",
       "      <td>145.8556</td>\n",
       "      <td>271.08</td>\n",
       "      <td>57</td>\n",
       "      <td>{'all': 78}</td>\n",
       "      <td>{'speed': 9.34, 'deg': 300, 'gust': 12.06}</td>\n",
       "      <td>RU</td>\n",
       "      <td>1735465833</td>\n",
       "    </tr>\n",
       "    <tr>\n",
       "      <th>1</th>\n",
       "      <td>zakamensk</td>\n",
       "      <td>50.3741</td>\n",
       "      <td>103.2863</td>\n",
       "      <td>255.81</td>\n",
       "      <td>91</td>\n",
       "      <td>{'all': 45}</td>\n",
       "      <td>{'speed': 2.07, 'deg': 242, 'gust': 1.63}</td>\n",
       "      <td>RU</td>\n",
       "      <td>1735465833</td>\n",
       "    </tr>\n",
       "    <tr>\n",
       "      <th>2</th>\n",
       "      <td>vanju-mare</td>\n",
       "      <td>44.4253</td>\n",
       "      <td>22.8697</td>\n",
       "      <td>277.43</td>\n",
       "      <td>64</td>\n",
       "      <td>{'all': 12}</td>\n",
       "      <td>{'speed': 1.34, 'deg': 261, 'gust': 0.98}</td>\n",
       "      <td>RO</td>\n",
       "      <td>1735465833</td>\n",
       "    </tr>\n",
       "    <tr>\n",
       "      <th>3</th>\n",
       "      <td>bethel</td>\n",
       "      <td>41.3712</td>\n",
       "      <td>-73.4140</td>\n",
       "      <td>279.82</td>\n",
       "      <td>90</td>\n",
       "      <td>{'all': 100}</td>\n",
       "      <td>{'speed': 0.89, 'deg': 265, 'gust': 0.89}</td>\n",
       "      <td>US</td>\n",
       "      <td>1735465777</td>\n",
       "    </tr>\n",
       "    <tr>\n",
       "      <th>4</th>\n",
       "      <td>papatowai</td>\n",
       "      <td>-46.5619</td>\n",
       "      <td>169.4708</td>\n",
       "      <td>286.38</td>\n",
       "      <td>98</td>\n",
       "      <td>{'all': 100}</td>\n",
       "      <td>{'speed': 1.83, 'deg': 225, 'gust': 2.29}</td>\n",
       "      <td>NZ</td>\n",
       "      <td>1735465833</td>\n",
       "    </tr>\n",
       "  </tbody>\n",
       "</table>\n",
       "</div>"
      ],
      "text/plain": [
       "             City      Lat       Lng  Max Temp  Humidity    Cloudiness  \\\n",
       "0  yuzhno-kurilsk  44.0306  145.8556    271.08        57   {'all': 78}   \n",
       "1       zakamensk  50.3741  103.2863    255.81        91   {'all': 45}   \n",
       "2      vanju-mare  44.4253   22.8697    277.43        64   {'all': 12}   \n",
       "3          bethel  41.3712  -73.4140    279.82        90  {'all': 100}   \n",
       "4       papatowai -46.5619  169.4708    286.38        98  {'all': 100}   \n",
       "\n",
       "                                   Wind Speed Country        Date  \n",
       "0  {'speed': 9.34, 'deg': 300, 'gust': 12.06}      RU  1735465833  \n",
       "1   {'speed': 2.07, 'deg': 242, 'gust': 1.63}      RU  1735465833  \n",
       "2   {'speed': 1.34, 'deg': 261, 'gust': 0.98}      RO  1735465833  \n",
       "3   {'speed': 0.89, 'deg': 265, 'gust': 0.89}      US  1735465777  \n",
       "4   {'speed': 1.83, 'deg': 225, 'gust': 2.29}      NZ  1735465833  "
      ]
     },
     "execution_count": 122,
     "metadata": {},
     "output_type": "execute_result"
    }
   ],
   "source": [
    "# Display sample data\n",
    "city_data_df.head()"
   ]
  },
  {
   "cell_type": "code",
   "execution_count": null,
   "metadata": {},
   "outputs": [],
   "source": [
    "# Export the City_Data into a csv\n",
    "city_data_df.to_csv(\"output_data/cities.csv\", index_label=\"City_ID\")"
   ]
  },
  {
   "cell_type": "code",
   "execution_count": null,
   "metadata": {},
   "outputs": [],
   "source": [
    "# Read saved data\n",
    "city_data_df = pd.read_csv(\"output_data/cities.csv\", index_col=\"City_ID\")\n",
    "\n",
    "# Display sample data\n",
    "city_data_df.head()"
   ]
  },
  {
   "cell_type": "markdown",
   "metadata": {},
   "source": [
    "### Create the Scatter Plots Requested\n",
    "\n",
    "#### Latitude Vs. Temperature"
   ]
  },
  {
   "cell_type": "code",
   "execution_count": null,
   "metadata": {},
   "outputs": [],
   "source": [
    "# Build scatter plot for latitude vs. temperature\n",
    "# YOUR CODE HERE\n",
    "\n",
    "# Incorporate the other graph properties\n",
    "# YOUR CODE HERE\n",
    "\n",
    "# Save the figure\n",
    "plt.savefig(\"output_data/Fig1.png\")\n",
    "\n",
    "# Show plot\n",
    "plt.show()"
   ]
  },
  {
   "cell_type": "markdown",
   "metadata": {},
   "source": [
    "#### Latitude Vs. Humidity"
   ]
  },
  {
   "cell_type": "code",
   "execution_count": null,
   "metadata": {},
   "outputs": [],
   "source": [
    "# Build the scatter plots for latitude vs. humidity\n",
    "# YOUR CODE HERE\n",
    "\n",
    "# Incorporate the other graph properties\n",
    "# YOUR CODE HERE\n",
    "\n",
    "# Save the figure\n",
    "plt.savefig(\"output_data/Fig2.png\")\n",
    "\n",
    "# Show plot\n",
    "plt.show()"
   ]
  },
  {
   "cell_type": "markdown",
   "metadata": {},
   "source": [
    "#### Latitude Vs. Cloudiness"
   ]
  },
  {
   "cell_type": "code",
   "execution_count": null,
   "metadata": {},
   "outputs": [],
   "source": [
    "# Build the scatter plots for latitude vs. cloudiness\n",
    "# YOUR CODE HERE\n",
    "\n",
    "# Incorporate the other graph properties\n",
    "# YOUR CODE HERE\n",
    "\n",
    "# Save the figure\n",
    "plt.savefig(\"output_data/Fig3.png\")\n",
    "\n",
    "# Show plot\n",
    "plt.show()"
   ]
  },
  {
   "cell_type": "markdown",
   "metadata": {},
   "source": [
    "#### Latitude vs. Wind Speed Plot"
   ]
  },
  {
   "cell_type": "code",
   "execution_count": null,
   "metadata": {},
   "outputs": [],
   "source": [
    "# Build the scatter plots for latitude vs. wind speed\n",
    "# YOUR CODE HERE\n",
    "\n",
    "# Incorporate the other graph properties\n",
    "# YOUR CODE HERE\n",
    "\n",
    "# Save the figure\n",
    "plt.savefig(\"output_data/Fig4.png\")\n",
    "\n",
    "# Show plot\n",
    "plt.show()"
   ]
  },
  {
   "cell_type": "markdown",
   "metadata": {},
   "source": [
    "---\n",
    "\n",
    "## Requirement 2: Compute Linear Regression for Each Relationship\n"
   ]
  },
  {
   "cell_type": "code",
   "execution_count": null,
   "metadata": {},
   "outputs": [],
   "source": [
    "# Define a function to create Linear Regression plots\n",
    "# YOUR CODE HERE"
   ]
  },
  {
   "cell_type": "code",
   "execution_count": null,
   "metadata": {},
   "outputs": [],
   "source": [
    "# Create a DataFrame with the Northern Hemisphere data (Latitude >= 0)\n",
    "# YOUR CODE HERE\n",
    "\n",
    "# Display sample data\n",
    "northern_hemi_df.head()"
   ]
  },
  {
   "cell_type": "code",
   "execution_count": null,
   "metadata": {},
   "outputs": [],
   "source": [
    "# Create a DataFrame with the Southern Hemisphere data (Latitude < 0)\n",
    "# YOUR CODE HERE\n",
    "\n",
    "# Display sample data\n",
    "southern_hemi_df.head()"
   ]
  },
  {
   "cell_type": "markdown",
   "metadata": {},
   "source": [
    "###  Temperature vs. Latitude Linear Regression Plot"
   ]
  },
  {
   "cell_type": "code",
   "execution_count": null,
   "metadata": {},
   "outputs": [],
   "source": [
    "# Linear regression on Northern Hemisphere\n",
    "# YOUR CODE HERE"
   ]
  },
  {
   "cell_type": "code",
   "execution_count": null,
   "metadata": {},
   "outputs": [],
   "source": [
    "# Linear regression on Southern Hemisphere\n",
    "# YOUR CODE HERE"
   ]
  },
  {
   "cell_type": "markdown",
   "metadata": {},
   "source": [
    "**Discussion about the linear relationship:** YOUR RESPONSE HERE"
   ]
  },
  {
   "cell_type": "markdown",
   "metadata": {},
   "source": [
    "### Humidity vs. Latitude Linear Regression Plot"
   ]
  },
  {
   "cell_type": "code",
   "execution_count": null,
   "metadata": {},
   "outputs": [],
   "source": [
    "# Northern Hemisphere\n",
    "# YOUR CODE HERE"
   ]
  },
  {
   "cell_type": "code",
   "execution_count": null,
   "metadata": {},
   "outputs": [],
   "source": [
    "# Southern Hemisphere\n",
    "# YOUR CODE HERE"
   ]
  },
  {
   "cell_type": "markdown",
   "metadata": {},
   "source": [
    "**Discussion about the linear relationship:** YOUR RESPONSE HERE"
   ]
  },
  {
   "cell_type": "markdown",
   "metadata": {},
   "source": [
    "### Cloudiness vs. Latitude Linear Regression Plot"
   ]
  },
  {
   "cell_type": "code",
   "execution_count": null,
   "metadata": {},
   "outputs": [],
   "source": [
    "# Northern Hemisphere\n",
    "# YOUR CODE HERE"
   ]
  },
  {
   "cell_type": "code",
   "execution_count": null,
   "metadata": {},
   "outputs": [],
   "source": [
    "# Southern Hemisphere\n",
    "# YOUR CODE HERE"
   ]
  },
  {
   "cell_type": "markdown",
   "metadata": {},
   "source": [
    "**Discussion about the linear relationship:** YOUR RESPONSE HERE"
   ]
  },
  {
   "cell_type": "markdown",
   "metadata": {},
   "source": [
    "### Wind Speed vs. Latitude Linear Regression Plot"
   ]
  },
  {
   "cell_type": "code",
   "execution_count": null,
   "metadata": {},
   "outputs": [],
   "source": [
    "# Northern Hemisphere\n",
    "# YOUR CODE HERE"
   ]
  },
  {
   "cell_type": "code",
   "execution_count": null,
   "metadata": {},
   "outputs": [],
   "source": [
    "# Southern Hemisphere\n",
    "# YOUR CODE HERE"
   ]
  },
  {
   "cell_type": "markdown",
   "metadata": {},
   "source": [
    "**Discussion about the linear relationship:** YOUR RESPONSE HERE"
   ]
  }
 ],
 "metadata": {
  "kernelspec": {
   "display_name": "base",
   "language": "python",
   "name": "python3"
  },
  "language_info": {
   "codemirror_mode": {
    "name": "ipython",
    "version": 3
   },
   "file_extension": ".py",
   "mimetype": "text/x-python",
   "name": "python",
   "nbconvert_exporter": "python",
   "pygments_lexer": "ipython3",
   "version": "3.12.7"
  }
 },
 "nbformat": 4,
 "nbformat_minor": 2
}
