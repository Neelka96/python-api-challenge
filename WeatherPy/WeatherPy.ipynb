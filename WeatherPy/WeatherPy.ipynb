{
 "cells": [
  {
   "cell_type": "markdown",
   "metadata": {},
   "source": [
    "# WeatherPy\n",
    "\n",
    "---\n",
    "\n",
    "## Starter Code to Generate Random Geographic Coordinates and a List of Cities"
   ]
  },
  {
   "cell_type": "code",
   "execution_count": 53,
   "metadata": {},
   "outputs": [],
   "source": [
    "# Import Dependencies\n",
    "import matplotlib.pyplot as plt\n",
    "import pandas as pd\n",
    "import numpy as np\n",
    "import requests\n",
    "from time import sleep\n",
    "from pathlib import Path\n",
    "\n",
    "from pprint import pprint   # TODO: Not needed after dev --> Delete when done\n",
    "\n",
    "# `Citipy` determines cities based on latitude & longitude\n",
    "from citipy import citipy   # Install using `pip install citipy`\n",
    "\n",
    "# Personally written functions\n",
    "# TODO: Add all function names or just run import statement\n",
    "from gcs_fx import *\n",
    "\n",
    "# Import OpenWeatherMap API Key\n",
    "from api_keys import weather_api_key"
   ]
  },
  {
   "cell_type": "markdown",
   "metadata": {},
   "source": [
    "### Generate the Cities List by Using the `citipy` Library"
   ]
  },
  {
   "cell_type": "code",
   "execution_count": 2,
   "metadata": {},
   "outputs": [
    {
     "name": "stdout",
     "output_type": "stream",
     "text": [
      "Number of cities in the list: 73\n"
     ]
    }
   ],
   "source": [
    "# Empty list for holding the latitude and longitude combinations\n",
    "lat_lngs = []\n",
    "\n",
    "# Empty list for holding the cities names\n",
    "cities = []\n",
    "\n",
    "# Range of latitudes and longitudes\n",
    "lat_range = (-90, 90)\n",
    "lng_range = (-180, 180)\n",
    "\n",
    "# Create a set of random lat and lng combinations\n",
    "lats = np.random.uniform(lat_range[0], lat_range[1], size = 100) # TODO: Change back `size = 1500`\n",
    "lngs = np.random.uniform(lng_range[0], lng_range[1], size = 100) # TODO: Change back `size = 1500`\n",
    "lat_lngs = list(zip(lats, lngs))    # TODO: Correction to allow for later access of coordinates\n",
    "                                    # --> Ensure is necessary later\n",
    "\n",
    "# Identify nearest city for each lat, lng combination\n",
    "for lat_lng in lat_lngs:\n",
    "    city = citipy.nearest_city(lat_lng[0], lat_lng[1]).city_name\n",
    "\n",
    "    # If the city is unique, then add it to a our cities list\n",
    "    if city not in cities:\n",
    "        cities.append(city)\n",
    "\n",
    "# Print the city count to confirm sufficient count\n",
    "print(f\"Number of cities in the list: {len(cities)}\")"
   ]
  },
  {
   "cell_type": "markdown",
   "metadata": {},
   "source": [
    "---"
   ]
  },
  {
   "cell_type": "markdown",
   "metadata": {},
   "source": [
    "## Requirement 1: Create Plots to Showcase the Relationship Between Weather Variables and Latitude\n",
    "\n",
    "### Use the OpenWeatherMap API to retrieve weather data from the cities list generated in the started code"
   ]
  },
  {
   "cell_type": "code",
   "execution_count": 3,
   "metadata": {},
   "outputs": [
    {
     "name": "stdout",
     "output_type": "stream",
     "text": [
      "Beginning Data Retrieval     \n",
      "-----------------------------\n",
      "Processing Record 1 of Set 1 | bargara\n",
      "City not found. Skipping...\n",
      "Processing Record 2 of Set 1 | port-aux-francais\n",
      "Processing Record 3 of Set 1 | grytviken\n",
      "Processing Record 4 of Set 1 | nadi\n",
      "Processing Record 5 of Set 1 | petropavlovsk-kamchatsky\n",
      "Processing Record 6 of Set 1 | launceston\n",
      "Processing Record 7 of Set 1 | puerto natales\n",
      "Processing Record 8 of Set 1 | longyearbyen\n",
      "Processing Record 9 of Set 1 | hays\n",
      "Processing Record 10 of Set 1 | vadso\n",
      "Processing Record 11 of Set 1 | stanley\n",
      "Processing Record 12 of Set 1 | adamstown\n",
      "Processing Record 13 of Set 1 | bilibino\n",
      "Processing Record 14 of Set 1 | fale old settlement\n",
      "Processing Record 15 of Set 1 | broome\n",
      "Processing Record 16 of Set 1 | chhatak\n",
      "Processing Record 17 of Set 1 | hot springs national park\n",
      "City not found. Skipping...\n",
      "Processing Record 18 of Set 1 | klyuchi\n",
      "Processing Record 19 of Set 1 | hasaki\n",
      "Processing Record 20 of Set 1 | bethel\n",
      "Processing Record 21 of Set 1 | cargados carajos\n",
      "City not found. Skipping...\n",
      "Processing Record 22 of Set 1 | tiksi\n",
      "Processing Record 23 of Set 1 | saipan\n",
      "Processing Record 24 of Set 1 | iqaluit\n",
      "Processing Record 25 of Set 1 | puerto ayora\n",
      "Processing Record 26 of Set 1 | talnakh\n",
      "Processing Record 27 of Set 1 | invercargill\n",
      "Processing Record 28 of Set 1 | margaret river\n",
      "Processing Record 29 of Set 1 | bardai\n",
      "Processing Record 30 of Set 1 | bredasdorp\n",
      "Processing Record 31 of Set 1 | port lincoln\n",
      "Processing Record 32 of Set 1 | manokwari\n",
      "Processing Record 33 of Set 1 | tazovsky\n",
      "Processing Record 34 of Set 1 | west island\n",
      "Processing Record 35 of Set 1 | ribeira grande\n",
      "Processing Record 36 of Set 1 | whitehorse\n",
      "Processing Record 37 of Set 1 | waitangi\n",
      "Processing Record 38 of Set 1 | alice springs\n",
      "Processing Record 39 of Set 1 | banfora\n",
      "Processing Record 40 of Set 1 | keelung\n",
      "Processing Record 41 of Set 1 | cole harbour\n",
      "Processing Record 42 of Set 1 | thompson\n",
      "Processing Record 43 of Set 1 | ras al khaimah city\n",
      "Processing Record 44 of Set 1 | edinburgh of the seven seas\n",
      "Processing Record 45 of Set 1 | khorugh\n",
      "Processing Record 46 of Set 1 | namsos\n",
      "Processing Record 47 of Set 1 | mandalgovi\n",
      "Processing Record 48 of Set 1 | port mathurin\n",
      "Processing Record 49 of Set 1 | mar del plata\n",
      "Processing Record 50 of Set 1 | machico\n",
      "Processing Record 1 of Set 2 | badger\n",
      "Processing Record 2 of Set 2 | aasiaat\n",
      "Processing Record 3 of Set 2 | rongelap\n",
      "Processing Record 4 of Set 2 | ushuaia\n",
      "Processing Record 5 of Set 2 | fuglafjordur\n",
      "Processing Record 6 of Set 2 | brena alta\n",
      "Processing Record 7 of Set 2 | karatau\n",
      "Processing Record 8 of Set 2 | isafjordur\n",
      "Processing Record 9 of Set 2 | ust-nera\n",
      "Processing Record 10 of Set 2 | enewetak\n",
      "Processing Record 11 of Set 2 | sabang\n",
      "Processing Record 12 of Set 2 | tongouson\n",
      "Processing Record 13 of Set 2 | avarua\n",
      "Processing Record 14 of Set 2 | devinuwara\n",
      "City not found. Skipping...\n",
      "Processing Record 15 of Set 2 | lihue\n",
      "Processing Record 16 of Set 2 | port saint john's\n",
      "Processing Record 17 of Set 2 | emirdag\n",
      "Processing Record 18 of Set 2 | jamestown\n",
      "Processing Record 19 of Set 2 | wenling\n",
      "Processing Record 20 of Set 2 | barakani\n",
      "Processing Record 21 of Set 2 | uturoa\n",
      "Processing Record 22 of Set 2 | papatowai\n",
      "Processing Record 23 of Set 2 | bella vista\n",
      "-----------------------------\n",
      "Data Retrieval Complete      \n",
      "-----------------------------\n"
     ]
    }
   ],
   "source": [
    "# Set the API base URL\n",
    "# https://api.openweathermap.org/data/2.5/weather?q=London,uk&APPID=4312e8b42443141d8193bff21246737e\n",
    "# https://api.openweathermap.org/data/3.0/onecall?lat={lat}&lon={lon}&exclude={part}&appid={API key}\n",
    "base_url = f'https://api.openweathermap.org/data/2.5/weather?appid={weather_api_key}'\n",
    "\n",
    "# Define an empty list to fetch the weather data for each city\n",
    "city_data = []\n",
    "\n",
    "# TODO: Define unit measurement system\n",
    "units = 'metric'\n",
    "\n",
    "# TODO: 'metric' or 'imperial' | kelvin is default -> Del unit query\n",
    "# Celcius = Kelvin - 273.15\n",
    "# Fahrenheit = (Kelvin - 273.15) x 9/5 + 32 | Includes conv. to Celcius\n",
    "\n",
    "# Print to logger\n",
    "print(\"Beginning Data Retrieval     \")\n",
    "print(\"-----------------------------\")\n",
    "\n",
    "# Create counters\n",
    "record_count = 1\n",
    "set_count = 1\n",
    "\n",
    "# Loop through all the cities in our list to fetch weather data\n",
    "for i, city in enumerate(cities):\n",
    "\n",
    "    # Group cities in sets of 50 for logging purposes\n",
    "    if (i % 50 == 0 and i >= 50):\n",
    "        set_count += 1\n",
    "        record_count = 1    # TODO: starter_code was `record_count = 0` --> Ensure is correct\n",
    "\n",
    "    # Create endpoint URL with each city\n",
    "    city_url = f'{base_url}&q={city}&units={units}'\n",
    "\n",
    "    # Log the url, record, and set numbers\n",
    "    # TODO: Clean old print-->\"Processing Record %s of Set %s | %s\" % (record_count, set_count, city)\n",
    "    print(f'Processing Record {record_count} of Set {set_count} | {city}')\n",
    "\n",
    "    # Add 1 to the record count\n",
    "    record_count += 1\n",
    "\n",
    "    # Run an API request for each of the cities\n",
    "    try:\n",
    "        response = requests.get(city_url).json()\n",
    "\n",
    "        # Parse the JSON and retrieve data\n",
    "        city_weather = response['weather']\n",
    "\n",
    "        # Parse out latitude, longitude, max temp, humidity, cloudiness, wind speed, country, and date\n",
    "        city_lat = response['coord']['lat']\n",
    "        city_lng = response['coord']['lon']\n",
    "        city_max_temp = response['main']['temp_max']\n",
    "        city_humidity = response['main']['humidity']\n",
    "        city_clouds = response['clouds']['all']\n",
    "        city_wind = response['wind']['speed']\n",
    "        city_country = response['sys']['country']\n",
    "        city_date = response['dt']\n",
    "\n",
    "        # Append the City information into city_data list\n",
    "        city_data.append({\"City\": city,\n",
    "                        \"Lat\": city_lat,\n",
    "                        \"Lng\": city_lng,\n",
    "                        \"Max Temp\": city_max_temp,\n",
    "                        \"Humidity\": city_humidity,\n",
    "                        \"Cloudiness\": city_clouds,\n",
    "                        \"Wind Speed\": city_wind,\n",
    "                        \"Country\": city_country,\n",
    "                        \"Date\": city_date})\n",
    "\n",
    "    # If an error is experienced, skip the city\n",
    "    except:\n",
    "        print(\"City not found. Skipping...\")\n",
    "        pass\n",
    "\n",
    "    # pause to avoid rate limiting\n",
    "    sleep(1)\n",
    "\n",
    "# Indicate that Data Loading is complete\n",
    "print(\"-----------------------------\")\n",
    "print(\"Data Retrieval Complete      \")\n",
    "print(\"-----------------------------\")"
   ]
  },
  {
   "cell_type": "code",
   "execution_count": 39,
   "metadata": {},
   "outputs": [
    {
     "data": {
      "text/plain": [
       "City          69\n",
       "Lat           69\n",
       "Lng           69\n",
       "Max Temp      69\n",
       "Humidity      69\n",
       "Cloudiness    69\n",
       "Wind Speed    69\n",
       "Country       69\n",
       "Date          69\n",
       "dtype: int64"
      ]
     },
     "execution_count": 39,
     "metadata": {},
     "output_type": "execute_result"
    }
   ],
   "source": [
    "# Convert the cities weather data into a Pandas DataFrame\n",
    "cityData_df = pd.DataFrame(city_data)\n",
    "\n",
    "# Show Record Count\n",
    "cityData_df.count()"
   ]
  },
  {
   "cell_type": "code",
   "execution_count": 40,
   "metadata": {},
   "outputs": [
    {
     "data": {
      "text/html": [
       "<div>\n",
       "<style scoped>\n",
       "    .dataframe tbody tr th:only-of-type {\n",
       "        vertical-align: middle;\n",
       "    }\n",
       "\n",
       "    .dataframe tbody tr th {\n",
       "        vertical-align: top;\n",
       "    }\n",
       "\n",
       "    .dataframe thead th {\n",
       "        text-align: right;\n",
       "    }\n",
       "</style>\n",
       "<table border=\"1\" class=\"dataframe\">\n",
       "  <thead>\n",
       "    <tr style=\"text-align: right;\">\n",
       "      <th></th>\n",
       "      <th>City</th>\n",
       "      <th>Lat</th>\n",
       "      <th>Lng</th>\n",
       "      <th>Max Temp</th>\n",
       "      <th>Humidity</th>\n",
       "      <th>Cloudiness</th>\n",
       "      <th>Wind Speed</th>\n",
       "      <th>Country</th>\n",
       "      <th>Date</th>\n",
       "    </tr>\n",
       "  </thead>\n",
       "  <tbody>\n",
       "    <tr>\n",
       "      <th>0</th>\n",
       "      <td>port-aux-francais</td>\n",
       "      <td>-49.3500</td>\n",
       "      <td>70.2167</td>\n",
       "      <td>4.52</td>\n",
       "      <td>71</td>\n",
       "      <td>81</td>\n",
       "      <td>8.32</td>\n",
       "      <td>TF</td>\n",
       "      <td>1735529814</td>\n",
       "    </tr>\n",
       "    <tr>\n",
       "      <th>1</th>\n",
       "      <td>grytviken</td>\n",
       "      <td>-54.2811</td>\n",
       "      <td>-36.5092</td>\n",
       "      <td>2.11</td>\n",
       "      <td>72</td>\n",
       "      <td>3</td>\n",
       "      <td>4.28</td>\n",
       "      <td>GS</td>\n",
       "      <td>1735529815</td>\n",
       "    </tr>\n",
       "    <tr>\n",
       "      <th>2</th>\n",
       "      <td>nadi</td>\n",
       "      <td>-17.8000</td>\n",
       "      <td>177.4167</td>\n",
       "      <td>31.00</td>\n",
       "      <td>58</td>\n",
       "      <td>20</td>\n",
       "      <td>6.69</td>\n",
       "      <td>FJ</td>\n",
       "      <td>1735529816</td>\n",
       "    </tr>\n",
       "    <tr>\n",
       "      <th>3</th>\n",
       "      <td>petropavlovsk-kamchatsky</td>\n",
       "      <td>53.0452</td>\n",
       "      <td>158.6483</td>\n",
       "      <td>-1.67</td>\n",
       "      <td>37</td>\n",
       "      <td>75</td>\n",
       "      <td>6.00</td>\n",
       "      <td>RU</td>\n",
       "      <td>1735529816</td>\n",
       "    </tr>\n",
       "    <tr>\n",
       "      <th>4</th>\n",
       "      <td>launceston</td>\n",
       "      <td>-41.4500</td>\n",
       "      <td>147.1667</td>\n",
       "      <td>18.80</td>\n",
       "      <td>72</td>\n",
       "      <td>100</td>\n",
       "      <td>9.26</td>\n",
       "      <td>AU</td>\n",
       "      <td>1735529817</td>\n",
       "    </tr>\n",
       "  </tbody>\n",
       "</table>\n",
       "</div>"
      ],
      "text/plain": [
       "                       City      Lat       Lng  Max Temp  Humidity  \\\n",
       "0         port-aux-francais -49.3500   70.2167      4.52        71   \n",
       "1                 grytviken -54.2811  -36.5092      2.11        72   \n",
       "2                      nadi -17.8000  177.4167     31.00        58   \n",
       "3  petropavlovsk-kamchatsky  53.0452  158.6483     -1.67        37   \n",
       "4                launceston -41.4500  147.1667     18.80        72   \n",
       "\n",
       "   Cloudiness  Wind Speed Country        Date  \n",
       "0          81        8.32      TF  1735529814  \n",
       "1           3        4.28      GS  1735529815  \n",
       "2          20        6.69      FJ  1735529816  \n",
       "3          75        6.00      RU  1735529816  \n",
       "4         100        9.26      AU  1735529817  "
      ]
     },
     "execution_count": 40,
     "metadata": {},
     "output_type": "execute_result"
    }
   ],
   "source": [
    "# Display sample data\n",
    "cityData_df.head()"
   ]
  },
  {
   "cell_type": "code",
   "execution_count": 41,
   "metadata": {},
   "outputs": [
    {
     "name": "stdout",
     "output_type": "stream",
     "text": [
      "New directory output_data created.\n"
     ]
    }
   ],
   "source": [
    "# Export the City_Data into a csv\n",
    "# NOTE: `df.to_csv()`` and other `.to_file()` methods takes OS independent regex\n",
    "# However, `Path` objects are useful for checking directory requirements\n",
    "outPath = Path('output_data')\n",
    "if not outPath.exists():\n",
    "    Path.mkdir('output_data')\n",
    "    print(f'New directory {outPath.name} created.')\n",
    "cityData_df.to_csv('output_data/cities.csv', index_label = 'City_ID')"
   ]
  },
  {
   "cell_type": "code",
   "execution_count": 42,
   "metadata": {},
   "outputs": [
    {
     "data": {
      "text/html": [
       "<div>\n",
       "<style scoped>\n",
       "    .dataframe tbody tr th:only-of-type {\n",
       "        vertical-align: middle;\n",
       "    }\n",
       "\n",
       "    .dataframe tbody tr th {\n",
       "        vertical-align: top;\n",
       "    }\n",
       "\n",
       "    .dataframe thead th {\n",
       "        text-align: right;\n",
       "    }\n",
       "</style>\n",
       "<table border=\"1\" class=\"dataframe\">\n",
       "  <thead>\n",
       "    <tr style=\"text-align: right;\">\n",
       "      <th></th>\n",
       "      <th>City</th>\n",
       "      <th>Lat</th>\n",
       "      <th>Lng</th>\n",
       "      <th>Max Temp</th>\n",
       "      <th>Humidity</th>\n",
       "      <th>Cloudiness</th>\n",
       "      <th>Wind Speed</th>\n",
       "      <th>Country</th>\n",
       "      <th>Date</th>\n",
       "    </tr>\n",
       "    <tr>\n",
       "      <th>City_ID</th>\n",
       "      <th></th>\n",
       "      <th></th>\n",
       "      <th></th>\n",
       "      <th></th>\n",
       "      <th></th>\n",
       "      <th></th>\n",
       "      <th></th>\n",
       "      <th></th>\n",
       "      <th></th>\n",
       "    </tr>\n",
       "  </thead>\n",
       "  <tbody>\n",
       "    <tr>\n",
       "      <th>0</th>\n",
       "      <td>port-aux-francais</td>\n",
       "      <td>-49.3500</td>\n",
       "      <td>70.2167</td>\n",
       "      <td>4.52</td>\n",
       "      <td>71</td>\n",
       "      <td>81</td>\n",
       "      <td>8.32</td>\n",
       "      <td>TF</td>\n",
       "      <td>1735529814</td>\n",
       "    </tr>\n",
       "    <tr>\n",
       "      <th>1</th>\n",
       "      <td>grytviken</td>\n",
       "      <td>-54.2811</td>\n",
       "      <td>-36.5092</td>\n",
       "      <td>2.11</td>\n",
       "      <td>72</td>\n",
       "      <td>3</td>\n",
       "      <td>4.28</td>\n",
       "      <td>GS</td>\n",
       "      <td>1735529815</td>\n",
       "    </tr>\n",
       "    <tr>\n",
       "      <th>2</th>\n",
       "      <td>nadi</td>\n",
       "      <td>-17.8000</td>\n",
       "      <td>177.4167</td>\n",
       "      <td>31.00</td>\n",
       "      <td>58</td>\n",
       "      <td>20</td>\n",
       "      <td>6.69</td>\n",
       "      <td>FJ</td>\n",
       "      <td>1735529816</td>\n",
       "    </tr>\n",
       "    <tr>\n",
       "      <th>3</th>\n",
       "      <td>petropavlovsk-kamchatsky</td>\n",
       "      <td>53.0452</td>\n",
       "      <td>158.6483</td>\n",
       "      <td>-1.67</td>\n",
       "      <td>37</td>\n",
       "      <td>75</td>\n",
       "      <td>6.00</td>\n",
       "      <td>RU</td>\n",
       "      <td>1735529816</td>\n",
       "    </tr>\n",
       "    <tr>\n",
       "      <th>4</th>\n",
       "      <td>launceston</td>\n",
       "      <td>-41.4500</td>\n",
       "      <td>147.1667</td>\n",
       "      <td>18.80</td>\n",
       "      <td>72</td>\n",
       "      <td>100</td>\n",
       "      <td>9.26</td>\n",
       "      <td>AU</td>\n",
       "      <td>1735529817</td>\n",
       "    </tr>\n",
       "  </tbody>\n",
       "</table>\n",
       "</div>"
      ],
      "text/plain": [
       "                             City      Lat       Lng  Max Temp  Humidity  \\\n",
       "City_ID                                                                    \n",
       "0               port-aux-francais -49.3500   70.2167      4.52        71   \n",
       "1                       grytviken -54.2811  -36.5092      2.11        72   \n",
       "2                            nadi -17.8000  177.4167     31.00        58   \n",
       "3        petropavlovsk-kamchatsky  53.0452  158.6483     -1.67        37   \n",
       "4                      launceston -41.4500  147.1667     18.80        72   \n",
       "\n",
       "         Cloudiness  Wind Speed Country        Date  \n",
       "City_ID                                              \n",
       "0                81        8.32      TF  1735529814  \n",
       "1                 3        4.28      GS  1735529815  \n",
       "2                20        6.69      FJ  1735529816  \n",
       "3                75        6.00      RU  1735529816  \n",
       "4               100        9.26      AU  1735529817  "
      ]
     },
     "execution_count": 42,
     "metadata": {},
     "output_type": "execute_result"
    }
   ],
   "source": [
    "# Read saved data\n",
    "cityData_df = pd.read_csv(\"output_data/cities.csv\", index_col=\"City_ID\")\n",
    "\n",
    "# Display sample data\n",
    "cityData_df.head()"
   ]
  },
  {
   "cell_type": "markdown",
   "metadata": {},
   "source": [
    "### Create the Scatter Plots Requested\n",
    "\n",
    "#### Latitude Vs. Temperature"
   ]
  },
  {
   "cell_type": "code",
   "execution_count": 43,
   "metadata": {},
   "outputs": [
    {
     "data": {
      "image/png": "[encoded data removed]",
      "text/plain": [
       "<Figure size 640x480 with 1 Axes>"
      ]
     },
     "metadata": {},
     "output_type": "display_data"
    }
   ],
   "source": [
    "# Build scatter plot for latitude vs. temperature\n",
    "cityData_df.plot(x = 'Lat', y = 'Max Temp', kind = 'scatter', \n",
    "        grid = True, xlabel = 'Latitude', ylabel = 'Max Temperature (C)',\n",
    "        title = f'City Latitude vs. Max Temperature ({date_str()})')\n",
    "\n",
    "# Save the figure\n",
    "plt.savefig('output_data/Fig1.png')\n",
    "\n",
    "# Show plot\n",
    "plt.show()"
   ]
  },
  {
   "cell_type": "markdown",
   "metadata": {},
   "source": [
    "#### Latitude Vs. Humidity"
   ]
  },
  {
   "cell_type": "code",
   "execution_count": null,
   "metadata": {},
   "outputs": [
    {
     "data": {
      "image/png": "[encoded data removed]",
      "text/plain": [
       "<Figure size 640x480 with 1 Axes>"
      ]
     },
     "metadata": {},
     "output_type": "display_data"
    }
   ],
   "source": [
    "# Build the scatter plots for latitude vs. humidity\n",
    "cityData_df.plot(x = 'Lat', y = 'Humidity', kind = 'scatter', \n",
    "        grid = True, xlabel = 'Latitude', ylabel = 'Humidity (%)',\n",
    "        title = f'City Latitude vs. Humidity ({date_str()})')\n",
    "\n",
    "# Save the figure\n",
    "plt.savefig(\"output_data/Fig2.png\")\n",
    "\n",
    "# Show plot\n",
    "plt.show()"
   ]
  },
  {
   "cell_type": "markdown",
   "metadata": {},
   "source": [
    "#### Latitude Vs. Cloudiness"
   ]
  },
  {
   "cell_type": "code",
   "execution_count": 10,
   "metadata": {},
   "outputs": [
    {
     "data": {
      "image/png": "[encoded data removed]",
      "text/plain": [
       "<Figure size 640x480 with 1 Axes>"
      ]
     },
     "metadata": {},
     "output_type": "display_data"
    }
   ],
   "source": [
    "# Build the scatter plots for latitude vs. cloudiness\n",
    "cityData_df.plot(x = 'Lat', y = 'Cloudiness', kind = 'scatter', \n",
    "        grid = True, xlabel = 'Latitude', ylabel = 'Cloudiness (%)',\n",
    "        title = f'City Latitude vs. Cloudiness ({date_str()})')\n",
    "\n",
    "# Save the figure\n",
    "plt.savefig(\"output_data/Fig3.png\")\n",
    "\n",
    "# Show plot\n",
    "plt.show()"
   ]
  },
  {
   "cell_type": "markdown",
   "metadata": {},
   "source": [
    "#### Latitude vs. Wind Speed Plot"
   ]
  },
  {
   "cell_type": "code",
   "execution_count": 11,
   "metadata": {},
   "outputs": [
    {
     "data": {
      "image/png": "[encoded data removed]",
      "text/plain": [
       "<Figure size 640x480 with 1 Axes>"
      ]
     },
     "metadata": {},
     "output_type": "display_data"
    }
   ],
   "source": [
    "# Build the scatter plots for latitude vs. wind speed\n",
    "cityData_df.plot(x = 'Lat', y = 'Wind Speed', kind = 'scatter', \n",
    "        grid = True, xlabel = 'Latitude', ylabel = 'Wind Speed (m/s)',\n",
    "        title = f'City Latitude vs. Wind Speed ({date_str()})')\n",
    "\n",
    "# Save the figure\n",
    "plt.savefig(\"output_data/Fig4.png\")\n",
    "\n",
    "# Show plot\n",
    "plt.show()"
   ]
  },
  {
   "cell_type": "markdown",
   "metadata": {},
   "source": [
    "---\n",
    "\n",
    "## Requirement 2: Compute Linear Regression for Each Relationship\n"
   ]
  },
  {
   "cell_type": "code",
   "execution_count": null,
   "metadata": {},
   "outputs": [],
   "source": [
    "# Define a function to create Linear Regression plots\n",
    "# YOUR CODE HERE"
   ]
  },
  {
   "cell_type": "code",
   "execution_count": null,
   "metadata": {},
   "outputs": [],
   "source": [
    "# Create a DataFrame with the Northern Hemisphere data (Latitude >= 0)\n",
    "# YOUR CODE HERE\n",
    "\n",
    "# Display sample data\n",
    "northern_hemi_df.head()"
   ]
  },
  {
   "cell_type": "code",
   "execution_count": null,
   "metadata": {},
   "outputs": [],
   "source": [
    "# Create a DataFrame with the Southern Hemisphere data (Latitude < 0)\n",
    "# YOUR CODE HERE\n",
    "\n",
    "# Display sample data\n",
    "southern_hemi_df.head()"
   ]
  },
  {
   "cell_type": "markdown",
   "metadata": {},
   "source": [
    "###  Temperature vs. Latitude Linear Regression Plot"
   ]
  },
  {
   "cell_type": "code",
   "execution_count": null,
   "metadata": {},
   "outputs": [],
   "source": [
    "# Linear regression on Northern Hemisphere\n",
    "# YOUR CODE HERE"
   ]
  },
  {
   "cell_type": "code",
   "execution_count": null,
   "metadata": {},
   "outputs": [],
   "source": [
    "# Linear regression on Southern Hemisphere\n",
    "# YOUR CODE HERE"
   ]
  },
  {
   "cell_type": "markdown",
   "metadata": {},
   "source": [
    "**Discussion about the linear relationship:** YOUR RESPONSE HERE"
   ]
  },
  {
   "cell_type": "markdown",
   "metadata": {},
   "source": [
    "### Humidity vs. Latitude Linear Regression Plot"
   ]
  },
  {
   "cell_type": "code",
   "execution_count": null,
   "metadata": {},
   "outputs": [],
   "source": [
    "# Northern Hemisphere\n",
    "# YOUR CODE HERE"
   ]
  },
  {
   "cell_type": "code",
   "execution_count": null,
   "metadata": {},
   "outputs": [],
   "source": [
    "# Southern Hemisphere\n",
    "# YOUR CODE HERE"
   ]
  },
  {
   "cell_type": "markdown",
   "metadata": {},
   "source": [
    "**Discussion about the linear relationship:** YOUR RESPONSE HERE"
   ]
  },
  {
   "cell_type": "markdown",
   "metadata": {},
   "source": [
    "### Cloudiness vs. Latitude Linear Regression Plot"
   ]
  },
  {
   "cell_type": "code",
   "execution_count": null,
   "metadata": {},
   "outputs": [],
   "source": [
    "# Northern Hemisphere\n",
    "# YOUR CODE HERE"
   ]
  },
  {
   "cell_type": "code",
   "execution_count": null,
   "metadata": {},
   "outputs": [],
   "source": [
    "# Southern Hemisphere\n",
    "# YOUR CODE HERE"
   ]
  },
  {
   "cell_type": "markdown",
   "metadata": {},
   "source": [
    "**Discussion about the linear relationship:** YOUR RESPONSE HERE"
   ]
  },
  {
   "cell_type": "markdown",
   "metadata": {},
   "source": [
    "### Wind Speed vs. Latitude Linear Regression Plot"
   ]
  },
  {
   "cell_type": "code",
   "execution_count": null,
   "metadata": {},
   "outputs": [],
   "source": [
    "# Northern Hemisphere\n",
    "# YOUR CODE HERE"
   ]
  },
  {
   "cell_type": "code",
   "execution_count": null,
   "metadata": {},
   "outputs": [],
   "source": [
    "# Southern Hemisphere\n",
    "# YOUR CODE HERE"
   ]
  },
  {
   "cell_type": "markdown",
   "metadata": {},
   "source": [
    "**Discussion about the linear relationship:** YOUR RESPONSE HERE"
   ]
  }
 ],
 "metadata": {
  "kernelspec": {
   "display_name": "base",
   "language": "python",
   "name": "python3"
  },
  "language_info": {
   "codemirror_mode": {
    "name": "ipython",
    "version": 3
   },
   "file_extension": ".py",
   "mimetype": "text/x-python",
   "name": "python",
   "nbconvert_exporter": "python",
   "pygments_lexer": "ipython3",
   "version": "3.12.7"
  }
 },
 "nbformat": 4,
 "nbformat_minor": 2
}
